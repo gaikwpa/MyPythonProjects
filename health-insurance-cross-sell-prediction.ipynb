{
 "cells": [
  {
   "cell_type": "markdown",
   "metadata": {},
   "source": [
    "# Health Insurance Cross Sell Prediction 🏠 🏥\n",
    "Predict Health Insurance Owners' who will be interested in Vehicle Insurance\n",
    "\n",
    "\n",
    "\n",
    "\n",
    "\n",
    "## Overview \n",
    "### 1) Context\n",
    "\n",
    "### 2) Describtion \n",
    "\n",
    "### 3) Used Python Libraries\n",
    "\n",
    "### 4) Exploratory Data Analysis (EDA) \n",
    "\n",
    "### 5) Data Normalization\n",
    "\n",
    "### 6) Feature Selection with Visualization\n",
    "\n",
    "### 7) Feature Selection with Hypothesis test \n",
    "\n",
    "### 8) Model Buliding \n",
    "\n",
    "### 9) Receiver Operating Characteristic Score (ROC AUC) \n",
    "\n",
    "### 10) Conclusion \n",
    "\n",
    "### 11) Applying Algorithm "
   ]
  },
  {
   "cell_type": "markdown",
   "metadata": {},
   "source": [
    "## Context\n",
    "Our client is an Insurance company that has provided Health Insurance to its customers now they need your help in building a model to predict whether the policyholders (customers) from past year will also be interested in Vehicle Insurance provided by the company.\n",
    "\n",
    "An insurance policy is an arrangement by which a company undertakes to provide a guarantee of compensation for specified loss, damage, illness, or death in return for the payment of a specified premium. A premium is a sum of money that the customer needs to pay regularly to an insurance company for this guarantee.\n",
    "\n",
    "For example, you may pay a premium of Rs. 5000 each year for a health insurance cover of Rs. 200,000/- so that if, God forbid, you fall ill and need to be hospitalised in that year, the insurance provider company will bear the cost of hospitalisation etc. for upto Rs. 200,000. Now if you are wondering how can company bear such high hospitalisation cost when it charges a premium of only Rs. 5000/-, that is where the concept of probabilities comes in picture. For example, like you, there may be 100 customers who would be paying a premium of Rs. 5000 every year, but only a few of them (say 2-3) would get hospitalised that year and not everyone. This way everyone shares the risk of everyone else.\n",
    "\n",
    "Just like medical insurance, there is vehicle insurance where every year customer needs to pay a premium of certain amount to insurance provider company so that in case of unfortunate accident by the vehicle, the insurance provider company will provide a compensation (called ‘sum assured’) to the customer.\n",
    "\n",
    "Building a model to predict whether a customer would be interested in Vehicle Insurance is extremely helpful for the company because it can then accordingly plan its communication strategy to reach out to those customers and optimise its business model and revenue.\n",
    "\n",
    "Now, in order to predict, whether the customer would be interested in Vehicle insurance, you have information about demographics (gender, age, region code type), Vehicles (Vehicle Age, Damage), Policy (Premium, sourcing channel) etc.\n",
    "\n",
    "\n",
    "![](https://autonexa.com/wp-content/uploads/2018/08/INS-1-780x405.jpg)"
   ]
  },
  {
   "cell_type": "markdown",
   "metadata": {},
   "source": [
    "## Data Description\n",
    "* **Train Data**\n",
    "\n",
    "\n",
    "1. id: Unique ID for the customer\n",
    "2. Gender: Gender of the customer\n",
    "3. Age: Age of the customer\n",
    "4. Driving_License:  **0** : Customer does not have DL, **1** : Customer already has DL\n",
    "5. Region_Code: Unique code for the region of the customer\n",
    "6. Previously_Insured: **1** : Customer already has Vehicle Insurance,**0**: Customer doesn't have Vehicle Insurance\n",
    "7. Vehicle_Age: Age of the Vehicle\n",
    "8. Vehicle_Damage: **1** : Customer got his/her vehicle damaged in the past.**0**: Customer didn't get his/her vehicle damaged in he past.\n",
    "9. Annual_Premium: The amount customer needs to pay as premium in the year\n",
    "10. PolicySalesChannel: Anonymised Code for the channel of outreaching to the customer ie. Different Agents, Over Mail, Over Phone, In Person, etc.\n",
    "11. Vintage: Number of Days, Customer has been associated with the company\n",
    "12. Response: 1 : Customer is interested, 0 : Customer is not interested\n",
    "\n",
    "\n",
    "\n",
    "*  **Test Data**\n",
    "\n",
    "\n",
    "1. id: Unique ID for the customer\n",
    "2. Gender: Gender of the customer\n",
    "3. Age: Age of the customer\n",
    "4. Driving_License:  **0** : Customer does not have DL, **1** : Customer already has DL\n",
    "5. Region_Code: Unique code for the region of the customer\n",
    "6. Previously_Insured: **1** : Customer already has Vehicle Insurance,**0**: Customer doesn't have Vehicle Insurance\n",
    "7. Vehicle_Age: Age of the Vehicle\n",
    "8. Vehicle_Damage: **1** : Customer got his/her vehicle damaged in the past. **0**: Customer didn't get his/her vehicle damaged in he past.\n",
    "9. Annual_Premium: The amount customer needs to pay as premium in the year\n",
    "10. PolicySalesChannel: Anonymised Code for the channel of outreaching to the customer ie. Different Agents, Over Mail, Over Phone, In Person, etc.\n",
    "11. Vintage: Number of Days, Customer has been associated with the company\n",
    "\n",
    "\n",
    "\n",
    "* **Submission**\n",
    "\n",
    "\n",
    "1. id: Unique ID for the customer\n",
    "2. Response: **1** : Customer is interested, **0** : Customer is not interested\n"
   ]
  },
  {
   "cell_type": "markdown",
   "metadata": {},
   "source": [
    "## Evaluation Metric\n",
    "The evaluation metric for this hackathon is ROC_AUC score.\n",
    "\n",
    "## Public and Private split\n",
    "The public leaderboard is based on 40% of test data, while final rank would be decided on remaining 60% of test data (which is private leaderboard)\n",
    "\n",
    "## Guidelines for Final Submission\n",
    "Please ensure that your final submission includes the following:\n",
    "\n",
    "1. Solution file containing the predicted response of the customer (Probability of response 1)\n",
    "2. Code file for reproducing the submission, note that it is mandatory to submit your code for a valid final submission"
   ]
  },
  {
   "cell_type": "markdown",
   "metadata": {},
   "source": [
    "## Used Python Libraries"
   ]
  },
  {
   "cell_type": "code",
   "execution_count": null,
   "metadata": {
    "execution": {
     "iopub.execute_input": "2021-08-16T06:45:33.547795Z",
     "iopub.status.busy": "2021-08-16T06:45:33.547265Z",
     "iopub.status.idle": "2021-08-16T06:45:33.555393Z",
     "shell.execute_reply": "2021-08-16T06:45:33.554269Z",
     "shell.execute_reply.started": "2021-08-16T06:45:33.547745Z"
    }
   },
   "outputs": [],
   "source": [
    "from sklearn.metrics import confusion_matrix ,classification_report,precision_score, recall_score ,f1_score, roc_curve, roc_auc_score \n",
    "from sklearn.model_selection import train_test_split\n",
    "from sklearn.linear_model import LogisticRegression \n",
    "from sklearn.ensemble import RandomForestClassifier\n",
    "from sklearn.tree import DecisionTreeClassifier\n",
    "from sklearn.neighbors import KNeighborsClassifier\n",
    "from sklearn.naive_bayes import GaussianNB\n",
    "from sklearn.svm import SVC\n",
    "\n",
    "import matplotlib.pyplot as plt\n",
    "import seaborn as sns\n",
    "import numpy as np\n",
    "import pandas as pd\n",
    "import warnings\n",
    "warnings.filterwarnings('ignore')"
   ]
  },
  {
   "cell_type": "markdown",
   "metadata": {},
   "source": [
    "## Know Dataset Nature\n",
    "1. head() : It is used to get the **first 5 rows** of the dataframe.\n",
    "2. tail() : It is used to get the **last 5 rows** of the dataframe.\n",
    "3. describe() : It is used to view some **basic statistical details** like percentile, mean, std etc.\n",
    "4. info() : It is used to print a **concise summary** of a DataFrame. including the **index dtype and column dtypes, non-null values and memory usage.**"
   ]
  },
  {
   "cell_type": "code",
   "execution_count": null,
   "metadata": {
    "execution": {
     "iopub.execute_input": "2021-08-16T06:45:33.626602Z",
     "iopub.status.busy": "2021-08-16T06:45:33.626222Z",
     "iopub.status.idle": "2021-08-16T06:45:34.066509Z",
     "shell.execute_reply": "2021-08-16T06:45:34.065663Z",
     "shell.execute_reply.started": "2021-08-16T06:45:33.626568Z"
    }
   },
   "outputs": [],
   "source": [
    "train_data = pd.read_csv('C:\\Users\\gaikw\\OneDrive\\Documents\\A Spring 2022\\Data Science Using Python\\Project Python\\Health Insurance Cross Sell Prediction\\health-insurance-cross-sell-prediction/train.csv')\n",
    "test_data = pd.read_csv('C:\\Users\\gaikw\\OneDrive\\Documents\\A Spring 2022\\Data Science Using Python\\Project Python\\Health Insurance Cross Sell Prediction\\health-insurance-cross-sell-prediction/test.csv')"
   ]
  },
  {
   "cell_type": "code",
   "execution_count": null,
   "metadata": {
    "execution": {
     "iopub.execute_input": "2021-08-16T06:45:34.068062Z",
     "iopub.status.busy": "2021-08-16T06:45:34.067794Z",
     "iopub.status.idle": "2021-08-16T06:45:34.085723Z",
     "shell.execute_reply": "2021-08-16T06:45:34.084696Z",
     "shell.execute_reply.started": "2021-08-16T06:45:34.068034Z"
    }
   },
   "outputs": [],
   "source": [
    "train_data.head()"
   ]
  },
  {
   "cell_type": "code",
   "execution_count": null,
   "metadata": {
    "execution": {
     "iopub.execute_input": "2021-08-16T06:45:34.087825Z",
     "iopub.status.busy": "2021-08-16T06:45:34.087491Z",
     "iopub.status.idle": "2021-08-16T06:45:34.112304Z",
     "shell.execute_reply": "2021-08-16T06:45:34.111267Z",
     "shell.execute_reply.started": "2021-08-16T06:45:34.087769Z"
    }
   },
   "outputs": [],
   "source": [
    "test_data.head()"
   ]
  },
  {
   "cell_type": "code",
   "execution_count": null,
   "metadata": {
    "execution": {
     "iopub.execute_input": "2021-08-16T06:45:34.114587Z",
     "iopub.status.busy": "2021-08-16T06:45:34.114203Z",
     "iopub.status.idle": "2021-08-16T06:45:34.252298Z",
     "shell.execute_reply": "2021-08-16T06:45:34.251185Z",
     "shell.execute_reply.started": "2021-08-16T06:45:34.114552Z"
    }
   },
   "outputs": [],
   "source": [
    "train_data.describe()"
   ]
  },
  {
   "cell_type": "code",
   "execution_count": null,
   "metadata": {
    "execution": {
     "iopub.execute_input": "2021-08-16T06:45:34.254291Z",
     "iopub.status.busy": "2021-08-16T06:45:34.25387Z",
     "iopub.status.idle": "2021-08-16T06:45:34.32123Z",
     "shell.execute_reply": "2021-08-16T06:45:34.320136Z",
     "shell.execute_reply.started": "2021-08-16T06:45:34.254249Z"
    }
   },
   "outputs": [],
   "source": [
    "train_data.info()"
   ]
  },
  {
   "cell_type": "markdown",
   "metadata": {},
   "source": [
    "## Light Data Exploration\n",
    "### 1) For numeric data \n",
    "* Made histograms to understand distributions \n",
    "* Corrplot \n",
    "* Pivot table comparing survival rate across numeric variables \n",
    "\n",
    "\n",
    "### 2) For Categorical Data \n",
    "* Made bar charts to understand balance of classes \n",
    "* Made pivot tables to understand relationship with survival "
   ]
  },
  {
   "cell_type": "code",
   "execution_count": null,
   "metadata": {
    "execution": {
     "iopub.execute_input": "2021-08-16T06:45:34.324947Z",
     "iopub.status.busy": "2021-08-16T06:45:34.324623Z",
     "iopub.status.idle": "2021-08-16T06:45:34.346991Z",
     "shell.execute_reply": "2021-08-16T06:45:34.346114Z",
     "shell.execute_reply.started": "2021-08-16T06:45:34.324916Z"
    }
   },
   "outputs": [],
   "source": [
    "train_data_cat = train_data[['Gender','Driving_License','Previously_Insured','Vehicle_Age','Vehicle_Damage']]\n",
    "train_data_num = train_data[['Age','Region_Code','Annual_Premium','Vintage','Policy_Sales_Channel']]"
   ]
  },
  {
   "cell_type": "code",
   "execution_count": null,
   "metadata": {
    "execution": {
     "iopub.execute_input": "2021-08-16T06:45:34.348496Z",
     "iopub.status.busy": "2021-08-16T06:45:34.348189Z",
     "iopub.status.idle": "2021-08-16T06:45:35.109032Z",
     "shell.execute_reply": "2021-08-16T06:45:35.108012Z",
     "shell.execute_reply.started": "2021-08-16T06:45:34.348415Z"
    }
   },
   "outputs": [],
   "source": [
    "for i in train_data_num.columns:\n",
    "    plt.hist(train_data_num[i])\n",
    "    plt.title(i)\n",
    "    plt.show()"
   ]
  },
  {
   "cell_type": "code",
   "execution_count": null,
   "metadata": {
    "execution": {
     "iopub.execute_input": "2021-08-16T06:45:35.112229Z",
     "iopub.status.busy": "2021-08-16T06:45:35.11194Z",
     "iopub.status.idle": "2021-08-16T06:45:35.39845Z",
     "shell.execute_reply": "2021-08-16T06:45:35.397344Z",
     "shell.execute_reply.started": "2021-08-16T06:45:35.1122Z"
    }
   },
   "outputs": [],
   "source": [
    "sns.heatmap(train_data_num.corr())"
   ]
  },
  {
   "cell_type": "code",
   "execution_count": null,
   "metadata": {
    "execution": {
     "iopub.execute_input": "2021-08-16T06:45:35.400719Z",
     "iopub.status.busy": "2021-08-16T06:45:35.400287Z",
     "iopub.status.idle": "2021-08-16T06:45:35.44197Z",
     "shell.execute_reply": "2021-08-16T06:45:35.441055Z",
     "shell.execute_reply.started": "2021-08-16T06:45:35.400645Z"
    }
   },
   "outputs": [],
   "source": [
    "pd.pivot_table(train_data, index='Response', values=['Age','Region_Code','Annual_Premium','Vintage','Policy_Sales_Channel'])"
   ]
  },
  {
   "cell_type": "code",
   "execution_count": null,
   "metadata": {
    "execution": {
     "iopub.execute_input": "2021-08-16T06:45:35.443431Z",
     "iopub.status.busy": "2021-08-16T06:45:35.443132Z",
     "iopub.status.idle": "2021-08-16T06:45:36.231654Z",
     "shell.execute_reply": "2021-08-16T06:45:36.230671Z",
     "shell.execute_reply.started": "2021-08-16T06:45:35.443401Z"
    }
   },
   "outputs": [],
   "source": [
    "for i in train_data_cat.columns:\n",
    "    sns.barplot(train_data_cat[i].value_counts().index,train_data_cat[i].value_counts()).set_title(i)\n",
    "    plt.show()"
   ]
  },
  {
   "cell_type": "code",
   "execution_count": null,
   "metadata": {
    "execution": {
     "iopub.execute_input": "2021-08-16T06:45:36.234356Z",
     "iopub.status.busy": "2021-08-16T06:45:36.233978Z",
     "iopub.status.idle": "2021-08-16T06:45:36.453708Z",
     "shell.execute_reply": "2021-08-16T06:45:36.452585Z",
     "shell.execute_reply.started": "2021-08-16T06:45:36.234314Z"
    }
   },
   "outputs": [],
   "source": [
    "for i in train_data_cat:\n",
    "    print(pd.pivot_table(train_data,index='Response',columns=i, values='Age'))\n",
    "    print(\"==\"*20)"
   ]
  },
  {
   "cell_type": "code",
   "execution_count": null,
   "metadata": {
    "execution": {
     "iopub.execute_input": "2021-08-16T06:45:36.457265Z",
     "iopub.status.busy": "2021-08-16T06:45:36.456983Z",
     "iopub.status.idle": "2021-08-16T06:45:37.033742Z",
     "shell.execute_reply": "2021-08-16T06:45:37.032625Z",
     "shell.execute_reply.started": "2021-08-16T06:45:36.457238Z"
    }
   },
   "outputs": [],
   "source": [
    "# dealing with outliers values\n",
    "for i in train_data_num.columns:\n",
    "    sns.boxplot(train_data_num[i])\n",
    "    plt.title(i)\n",
    "    plt.show()"
   ]
  },
  {
   "cell_type": "markdown",
   "metadata": {},
   "source": [
    "## Data Normalization\n",
    "\n",
    "1. interquartile range: It is hlep us to find **outlier values** in th columns.\n",
    "2. outlinefree() : It is a customise function that help us to figureout and work on outlier values in columns. meanly, it is used to **remove outlires** values from dataset.    \n",
    "3. for-loop: with the help of for-loop, we are checking the **outlinefree()** function worked properly or not."
   ]
  },
  {
   "cell_type": "code",
   "execution_count": null,
   "metadata": {
    "execution": {
     "iopub.execute_input": "2021-08-16T06:45:37.035214Z",
     "iopub.status.busy": "2021-08-16T06:45:37.034942Z",
     "iopub.status.idle": "2021-08-16T06:45:37.041855Z",
     "shell.execute_reply": "2021-08-16T06:45:37.040992Z",
     "shell.execute_reply.started": "2021-08-16T06:45:37.035184Z"
    }
   },
   "outputs": [],
   "source": [
    "def outlinefree(dataCol):     \n",
    "      \n",
    "    sorted(dataCol)                          # sort column\n",
    "    Q1,Q3 = np.percentile(dataCol,[25,75])   # getting 25% and 75% percentile\n",
    "    IQR = Q3-Q1                              # getting IQR \n",
    "    LowerRange = Q1-(1.5 * IQR)              # getting Lowrange\n",
    "    UpperRange = Q3+(1.5 * IQR)              # getting Upperrange \n",
    "    \n",
    "    colname = dataCol.tolist()               # convert column into list  \n",
    "    newlist =[]                              # empty list for store new values\n",
    "    for i in range(len(colname)):\n",
    "        \n",
    "        if colname[i] > UpperRange:          # list number > Upperrange \n",
    "            colname[i] = UpperRange          # then number = Upperrange\n",
    "            newlist.append(colname[i])       # append value to empty list\n",
    "        elif colname[i] < LowerRange:        # list number < Lowrange \n",
    "            colname[i] = LowerRange          # then number = Lowrange\n",
    "            newlist.append(colname[i])       # append value to empty list \n",
    "        else:\n",
    "            colname[i]                       # list number\n",
    "            newlist.append(colname[i])       # append value to empty list\n",
    "            \n",
    "        \n",
    "\n",
    "    return newlist"
   ]
  },
  {
   "cell_type": "code",
   "execution_count": null,
   "metadata": {
    "execution": {
     "iopub.execute_input": "2021-08-16T06:45:37.043376Z",
     "iopub.status.busy": "2021-08-16T06:45:37.04309Z",
     "iopub.status.idle": "2021-08-16T06:45:38.894764Z",
     "shell.execute_reply": "2021-08-16T06:45:38.893629Z",
     "shell.execute_reply.started": "2021-08-16T06:45:37.043346Z"
    }
   },
   "outputs": [],
   "source": [
    "for i in range(len(train_data_num.columns)):\n",
    "    new_list =  outlinefree(train_data.loc[:,train_data_num.columns[i]]) # retrun new list\n",
    "    train_data.loc[:,train_data_num.columns[i]] = new_list "
   ]
  },
  {
   "cell_type": "code",
   "execution_count": null,
   "metadata": {
    "execution": {
     "iopub.execute_input": "2021-08-16T06:45:38.896478Z",
     "iopub.status.busy": "2021-08-16T06:45:38.896169Z",
     "iopub.status.idle": "2021-08-16T06:45:38.905821Z",
     "shell.execute_reply": "2021-08-16T06:45:38.904812Z",
     "shell.execute_reply.started": "2021-08-16T06:45:38.896447Z"
    }
   },
   "outputs": [],
   "source": [
    "train_data_num_new = train_data[['Age','Region_Code','Annual_Premium','Vintage','Policy_Sales_Channel']]"
   ]
  },
  {
   "cell_type": "code",
   "execution_count": null,
   "metadata": {
    "execution": {
     "iopub.execute_input": "2021-08-16T06:45:38.907728Z",
     "iopub.status.busy": "2021-08-16T06:45:38.907275Z",
     "iopub.status.idle": "2021-08-16T06:45:39.791823Z",
     "shell.execute_reply": "2021-08-16T06:45:39.790874Z",
     "shell.execute_reply.started": "2021-08-16T06:45:38.907667Z"
    }
   },
   "outputs": [],
   "source": [
    "# dealing with outliers values\n",
    "for i in train_data_num_new.columns:\n",
    "    sns.boxplot(train_data_num_new[i])\n",
    "    plt.title(i)\n",
    "    plt.show()"
   ]
  },
  {
   "cell_type": "code",
   "execution_count": null,
   "metadata": {
    "execution": {
     "iopub.execute_input": "2021-08-16T06:45:39.793272Z",
     "iopub.status.busy": "2021-08-16T06:45:39.793003Z",
     "iopub.status.idle": "2021-08-16T06:45:39.836099Z",
     "shell.execute_reply": "2021-08-16T06:45:39.83494Z",
     "shell.execute_reply.started": "2021-08-16T06:45:39.793244Z"
    }
   },
   "outputs": [],
   "source": [
    "train_data.Vehicle_Age.value_counts()"
   ]
  },
  {
   "cell_type": "code",
   "execution_count": null,
   "metadata": {
    "execution": {
     "iopub.execute_input": "2021-08-16T06:45:39.837517Z",
     "iopub.status.busy": "2021-08-16T06:45:39.83726Z",
     "iopub.status.idle": "2021-08-16T06:45:40.230955Z",
     "shell.execute_reply": "2021-08-16T06:45:40.22993Z",
     "shell.execute_reply.started": "2021-08-16T06:45:39.837491Z"
    }
   },
   "outputs": [],
   "source": [
    "train_data.replace(['Female','Male','1-2 Year','< 1 Year','> 2 Years'],[0,1,'1-2','<1Year','>2Years'],inplace=True)\n",
    "test_data.replace(['Female','Male','1-2 Year','< 1 Year','> 2 Years'],[0,1,'1-2','<1Year','>2Years'],inplace=True)"
   ]
  },
  {
   "cell_type": "code",
   "execution_count": null,
   "metadata": {
    "execution": {
     "iopub.execute_input": "2021-08-16T06:45:40.232391Z",
     "iopub.status.busy": "2021-08-16T06:45:40.232144Z",
     "iopub.status.idle": "2021-08-16T06:45:40.270867Z",
     "shell.execute_reply": "2021-08-16T06:45:40.269534Z",
     "shell.execute_reply.started": "2021-08-16T06:45:40.232365Z"
    }
   },
   "outputs": [],
   "source": [
    "train_data.Vehicle_Age.value_counts()"
   ]
  },
  {
   "cell_type": "markdown",
   "metadata": {},
   "source": [
    "## Feature Selection\n",
    "\n",
    "1. seaborn.pairplot(): It is help to figure-out relation between features and label."
   ]
  },
  {
   "cell_type": "code",
   "execution_count": null,
   "metadata": {
    "execution": {
     "iopub.execute_input": "2021-08-16T06:45:40.275065Z",
     "iopub.status.busy": "2021-08-16T06:45:40.274763Z",
     "iopub.status.idle": "2021-08-16T06:47:59.109878Z",
     "shell.execute_reply": "2021-08-16T06:47:59.107441Z",
     "shell.execute_reply.started": "2021-08-16T06:45:40.275036Z"
    }
   },
   "outputs": [],
   "source": [
    "sns.pairplot(train_data)"
   ]
  },
  {
   "cell_type": "markdown",
   "metadata": {},
   "source": [
    "## Feature Selection with hypothesis test\n",
    "1. Chi-test: It is help to figure-out relation between features and label with **\"pvalue <= 0.1\"**"
   ]
  },
  {
   "cell_type": "code",
   "execution_count": null,
   "metadata": {
    "execution": {
     "iopub.execute_input": "2021-08-16T06:47:59.112847Z",
     "iopub.status.busy": "2021-08-16T06:47:59.112459Z",
     "iopub.status.idle": "2021-08-16T06:47:59.180513Z",
     "shell.execute_reply": "2021-08-16T06:47:59.179344Z",
     "shell.execute_reply.started": "2021-08-16T06:47:59.112809Z"
    }
   },
   "outputs": [],
   "source": [
    "ct = pd.crosstab(train_data['Vintage'],train_data['Response'])\n",
    "from scipy.stats import chi2_contingency\n",
    "stat,pvalue,dof,expected_R = chi2_contingency(ct)\n",
    "print(\"pvalue : \",pvalue)\n",
    "\n",
    "if pvalue <= 0.1:\n",
    "    print(\"Alternate Hypothesis passed. Vintage and Response have Relationship\")\n",
    "else:\n",
    "    print(\"Null hypothesis passed. Vintage and Response doesnot have  Relationship\")"
   ]
  },
  {
   "cell_type": "code",
   "execution_count": null,
   "metadata": {
    "execution": {
     "iopub.execute_input": "2021-08-16T06:47:59.182356Z",
     "iopub.status.busy": "2021-08-16T06:47:59.181961Z",
     "iopub.status.idle": "2021-08-16T06:47:59.199328Z",
     "shell.execute_reply": "2021-08-16T06:47:59.198142Z",
     "shell.execute_reply.started": "2021-08-16T06:47:59.182311Z"
    }
   },
   "outputs": [],
   "source": [
    "train_data_1 = train_data.loc[:,['Response','Gender','Age','Driving_License','Region_Code','Previously_Insured','Vehicle_Age','Vehicle_Damage','Annual_Premium','Policy_Sales_Channel']]"
   ]
  },
  {
   "cell_type": "code",
   "execution_count": null,
   "metadata": {
    "execution": {
     "iopub.execute_input": "2021-08-16T06:47:59.201265Z",
     "iopub.status.busy": "2021-08-16T06:47:59.200797Z",
     "iopub.status.idle": "2021-08-16T06:47:59.284516Z",
     "shell.execute_reply": "2021-08-16T06:47:59.283583Z",
     "shell.execute_reply.started": "2021-08-16T06:47:59.201228Z"
    }
   },
   "outputs": [],
   "source": [
    "final_train_data = pd.get_dummies(train_data_1)"
   ]
  },
  {
   "cell_type": "code",
   "execution_count": null,
   "metadata": {
    "execution": {
     "iopub.execute_input": "2021-08-16T06:47:59.286063Z",
     "iopub.status.busy": "2021-08-16T06:47:59.285782Z",
     "iopub.status.idle": "2021-08-16T06:47:59.292173Z",
     "shell.execute_reply": "2021-08-16T06:47:59.290974Z",
     "shell.execute_reply.started": "2021-08-16T06:47:59.286034Z"
    }
   },
   "outputs": [],
   "source": [
    "final_train_data.columns"
   ]
  },
  {
   "cell_type": "code",
   "execution_count": null,
   "metadata": {
    "execution": {
     "iopub.execute_input": "2021-08-16T06:47:59.294539Z",
     "iopub.status.busy": "2021-08-16T06:47:59.294109Z",
     "iopub.status.idle": "2021-08-16T06:47:59.340587Z",
     "shell.execute_reply": "2021-08-16T06:47:59.339608Z",
     "shell.execute_reply.started": "2021-08-16T06:47:59.294497Z"
    }
   },
   "outputs": [],
   "source": [
    "features = final_train_data.iloc[:,1:].values\n",
    "label = final_train_data.iloc[:,0].values"
   ]
  },
  {
   "cell_type": "markdown",
   "metadata": {},
   "source": [
    "## Model Buliding\n",
    "here we will be using many algorithms and compare all of them. which algorithm will be giving us a Better result. The following algorithms are below.\n",
    "\n",
    "1. Logistic Regression (f1 score: 0.0 )\n",
    "2. **naive bayes (f1 score: 0.4182915181587346)**\n",
    "3. DecisionTreeClassifier (f1 score: 0.0)\n",
    "4. RandomForestClassifier (f1 score: 0.0)"
   ]
  },
  {
   "cell_type": "code",
   "execution_count": null,
   "metadata": {
    "execution": {
     "iopub.execute_input": "2021-08-16T06:47:59.342345Z",
     "iopub.status.busy": "2021-08-16T06:47:59.341962Z",
     "iopub.status.idle": "2021-08-16T06:47:59.347053Z",
     "shell.execute_reply": "2021-08-16T06:47:59.345849Z",
     "shell.execute_reply.started": "2021-08-16T06:47:59.342303Z"
    }
   },
   "outputs": [],
   "source": [
    "#pip install scikit-learn  -U"
   ]
  },
  {
   "cell_type": "code",
   "execution_count": null,
   "metadata": {
    "execution": {
     "iopub.execute_input": "2021-08-16T06:47:59.348771Z",
     "iopub.status.busy": "2021-08-16T06:47:59.348337Z",
     "iopub.status.idle": "2021-08-16T06:48:00.762631Z",
     "shell.execute_reply": "2021-08-16T06:48:00.761657Z",
     "shell.execute_reply.started": "2021-08-16T06:47:59.348727Z"
    }
   },
   "outputs": [],
   "source": [
    "#------------------------LogisticRegression-----------------------\n",
    "X_train, X_test, y_train, y_test= train_test_split(features,label, test_size= 0.25, random_state=70)\n",
    "\n",
    "classimodel= LogisticRegression(solver='liblinear')  \n",
    "classimodel.fit(X_train, y_train)\n",
    "trainscore =  classimodel.score(X_train,y_train)\n",
    "testscore =  classimodel.score(X_test,y_test)  \n",
    "\n",
    "y_predlogi =  classimodel.predict(X_test)\n",
    "print(' f1 score: ',f1_score(y_test, y_predlogi),'\\n')\n",
    "print(confusion_matrix(y_test, y_predlogi))"
   ]
  },
  {
   "cell_type": "code",
   "execution_count": null,
   "metadata": {
    "execution": {
     "iopub.execute_input": "2021-08-16T06:48:00.764049Z",
     "iopub.status.busy": "2021-08-16T06:48:00.763776Z",
     "iopub.status.idle": "2021-08-16T06:48:00.999644Z",
     "shell.execute_reply": "2021-08-16T06:48:00.998288Z",
     "shell.execute_reply.started": "2021-08-16T06:48:00.76402Z"
    }
   },
   "outputs": [],
   "source": [
    "print(' precision score: ',precision_score(y_test, y_predlogi),'\\n')\n",
    "print(' recall score: ',recall_score(y_test, y_predlogi),'\\n')\n",
    "print(classification_report(y_test, y_predlogi))"
   ]
  },
  {
   "cell_type": "code",
   "execution_count": null,
   "metadata": {
    "execution": {
     "iopub.execute_input": "2021-08-16T06:48:01.001006Z",
     "iopub.status.busy": "2021-08-16T06:48:01.000733Z",
     "iopub.status.idle": "2021-08-16T06:48:01.437747Z",
     "shell.execute_reply": "2021-08-16T06:48:01.436746Z",
     "shell.execute_reply.started": "2021-08-16T06:48:01.000973Z"
    }
   },
   "outputs": [],
   "source": [
    "#------------------------------naive bayes---------------------------\n",
    "X_train, X_test, y_train, y_test= train_test_split(features,label, test_size= 0.25, random_state=94)\n",
    "\n",
    "NBmodel = GaussianNB()  \n",
    "NBmodel.fit(X_train, y_train) \n",
    "\n",
    "trainscore =  NBmodel.score(X_train,y_train)\n",
    "testscore =  NBmodel.score(X_test,y_test)  \n",
    "\n",
    "y_predNB =  NBmodel.predict(X_test)\n",
    "print(' f1 score: ',f1_score(y_test, y_predNB),'\\n')\n",
    "print(confusion_matrix(y_test, y_predNB))"
   ]
  },
  {
   "cell_type": "code",
   "execution_count": null,
   "metadata": {
    "execution": {
     "iopub.execute_input": "2021-08-16T06:48:01.439177Z",
     "iopub.status.busy": "2021-08-16T06:48:01.438905Z",
     "iopub.status.idle": "2021-08-16T06:48:01.712165Z",
     "shell.execute_reply": "2021-08-16T06:48:01.711004Z",
     "shell.execute_reply.started": "2021-08-16T06:48:01.439148Z"
    }
   },
   "outputs": [],
   "source": [
    "print(' precision score: ',precision_score(y_test, y_predNB),'\\n')\n",
    "print(' recall score: ',recall_score(y_test, y_predNB),'\\n')\n",
    "print(classification_report(y_test, y_predNB))"
   ]
  },
  {
   "cell_type": "code",
   "execution_count": null,
   "metadata": {
    "execution": {
     "iopub.execute_input": "2021-08-16T06:48:01.713842Z",
     "iopub.status.busy": "2021-08-16T06:48:01.713502Z",
     "iopub.status.idle": "2021-08-16T06:48:02.168598Z",
     "shell.execute_reply": "2021-08-16T06:48:02.167646Z",
     "shell.execute_reply.started": "2021-08-16T06:48:01.713809Z"
    }
   },
   "outputs": [],
   "source": [
    "#------------------------Decision Tree-----------------------\n",
    "X_train, X_test, y_train, y_test= train_test_split(features,label, test_size= 0.25, random_state=34)\n",
    "\n",
    "DTmodel=  DecisionTreeClassifier(criterion = 'entropy',splitter = 'random',max_depth=4)  \n",
    "DTmodel.fit(X_train, y_train)\n",
    "trainscore =  DTmodel.score(X_train,y_train)\n",
    "testscore =  DTmodel.score(X_test,y_test)  \n",
    "\n",
    "y_pred =  DTmodel.predict(X_test)\n",
    "print(' f1 score: ',f1_score(y_test, y_pred),'\\n')\n",
    "print(confusion_matrix(y_test, y_pred))"
   ]
  },
  {
   "cell_type": "code",
   "execution_count": null,
   "metadata": {
    "execution": {
     "iopub.execute_input": "2021-08-16T06:48:02.169997Z",
     "iopub.status.busy": "2021-08-16T06:48:02.16972Z",
     "iopub.status.idle": "2021-08-16T06:48:02.404291Z",
     "shell.execute_reply": "2021-08-16T06:48:02.403317Z",
     "shell.execute_reply.started": "2021-08-16T06:48:02.169962Z"
    }
   },
   "outputs": [],
   "source": [
    "print(' precision score: ',precision_score(y_test, y_pred),'\\n')\n",
    "print(' recall score: ',recall_score(y_test, y_pred),'\\n')\n",
    "print(classification_report(y_test, y_pred))"
   ]
  },
  {
   "cell_type": "code",
   "execution_count": null,
   "metadata": {
    "execution": {
     "iopub.execute_input": "2021-08-16T06:48:02.40564Z",
     "iopub.status.busy": "2021-08-16T06:48:02.405384Z",
     "iopub.status.idle": "2021-08-16T06:48:18.67579Z",
     "shell.execute_reply": "2021-08-16T06:48:18.674494Z",
     "shell.execute_reply.started": "2021-08-16T06:48:02.40561Z"
    }
   },
   "outputs": [],
   "source": [
    "#------------------------Random Forest-----------------------\n",
    "X_train, X_test, y_train, y_test= train_test_split(features,label, test_size= 0.25, random_state=2)\n",
    "\n",
    "RFmodel=  RandomForestClassifier(criterion='entropy',max_depth=4) \n",
    "RFmodel.fit(X_train, y_train)\n",
    "trainscore =  RFmodel.score(X_train,y_train)\n",
    "testscore =  RFmodel.score(X_test,y_test)  \n",
    "\n",
    "y_pred =  RFmodel.predict(X_test)\n",
    "print(' f1 score: ',f1_score(y_test, y_pred),'\\n')\n",
    "print(confusion_matrix(y_test, y_pred))"
   ]
  },
  {
   "cell_type": "code",
   "execution_count": null,
   "metadata": {
    "execution": {
     "iopub.execute_input": "2021-08-16T06:48:18.677702Z",
     "iopub.status.busy": "2021-08-16T06:48:18.677243Z",
     "iopub.status.idle": "2021-08-16T06:48:18.910806Z",
     "shell.execute_reply": "2021-08-16T06:48:18.909845Z",
     "shell.execute_reply.started": "2021-08-16T06:48:18.677637Z"
    }
   },
   "outputs": [],
   "source": [
    "print(' precision score: ',precision_score(y_test, y_pred),'\\n')\n",
    "print(' recall score: ',recall_score(y_test, y_pred),'\\n')\n",
    "print(classification_report(y_test, y_pred))"
   ]
  },
  {
   "cell_type": "markdown",
   "metadata": {},
   "source": [
    "## Receiver Operating Characteristic Score (ROC AUC)\n",
    "here we will be using many algorithms and compare all of them. which algorithm will be giving us a Better result. The following algorithms are below.\n",
    "\n",
    "1. Logistic Regression (auc: 0.8118786282323492)\n",
    "2. naive bayes (auc: 0.8214481948289034)\n",
    "3. DecisionTreeClassifier (auc: 0.829889187907877)\n",
    "4. **RandomForestClassifier (auc: 0.845225109832536)**"
   ]
  },
  {
   "cell_type": "code",
   "execution_count": null,
   "metadata": {
    "execution": {
     "iopub.execute_input": "2021-08-16T06:48:18.912236Z",
     "iopub.status.busy": "2021-08-16T06:48:18.911972Z",
     "iopub.status.idle": "2021-08-16T06:48:19.37748Z",
     "shell.execute_reply": "2021-08-16T06:48:19.37674Z",
     "shell.execute_reply.started": "2021-08-16T06:48:18.912208Z"
    }
   },
   "outputs": [],
   "source": [
    "#-------------------------------------- LogisticRegression -------------------------------------\n",
    "probabilityValues = classimodel.predict_proba(features)[:,1]\n",
    "#Calculate AUC\n",
    "auc = roc_auc_score(label,probabilityValues)\n",
    "print(auc)\n",
    "#Calculate roc_curve\n",
    "fpr,tpr, threshold =  roc_curve(label,probabilityValues)\n",
    "plt.plot([0,1],[0,1], linestyle = '--')\n",
    "plt.plot(fpr,tpr)"
   ]
  },
  {
   "cell_type": "code",
   "execution_count": null,
   "metadata": {
    "execution": {
     "iopub.execute_input": "2021-08-16T06:48:19.379083Z",
     "iopub.status.busy": "2021-08-16T06:48:19.378588Z",
     "iopub.status.idle": "2021-08-16T06:48:19.883407Z",
     "shell.execute_reply": "2021-08-16T06:48:19.882514Z",
     "shell.execute_reply.started": "2021-08-16T06:48:19.379049Z"
    }
   },
   "outputs": [],
   "source": [
    "#-------------------------------------- naive bayes -------------------------------------\n",
    "probabilityValues = NBmodel.predict_proba(features)[:,1]\n",
    "#Calculate AUC\n",
    "auc = roc_auc_score(label,probabilityValues)\n",
    "print(auc)\n",
    "#Calculate roc_curve\n",
    "fpr,tpr, threshold =  roc_curve(label,probabilityValues)\n",
    "plt.plot([0,1],[0,1], linestyle = '--')\n",
    "plt.plot(fpr,tpr)"
   ]
  },
  {
   "cell_type": "code",
   "execution_count": null,
   "metadata": {
    "execution": {
     "iopub.execute_input": "2021-08-16T06:48:19.88533Z",
     "iopub.status.busy": "2021-08-16T06:48:19.884792Z",
     "iopub.status.idle": "2021-08-16T06:48:20.208123Z",
     "shell.execute_reply": "2021-08-16T06:48:20.207134Z",
     "shell.execute_reply.started": "2021-08-16T06:48:19.885288Z"
    }
   },
   "outputs": [],
   "source": [
    "#-------------------------------------- Decision Tree -------------------------------------\n",
    "probabilityValues = DTmodel.predict_proba(features)[:,1]\n",
    "#Calculate AUC\n",
    "auc = roc_auc_score(label,probabilityValues)\n",
    "print(auc)\n",
    "#Calculate roc_curve\n",
    "fpr,tpr, threshold =  roc_curve(label,probabilityValues)\n",
    "plt.plot([0,1],[0,1], linestyle = '--')\n",
    "plt.plot(fpr,tpr)"
   ]
  },
  {
   "cell_type": "code",
   "execution_count": null,
   "metadata": {
    "execution": {
     "iopub.execute_input": "2021-08-16T06:48:20.209648Z",
     "iopub.status.busy": "2021-08-16T06:48:20.209352Z",
     "iopub.status.idle": "2021-08-16T06:48:22.91716Z",
     "shell.execute_reply": "2021-08-16T06:48:22.916255Z",
     "shell.execute_reply.started": "2021-08-16T06:48:20.209619Z"
    }
   },
   "outputs": [],
   "source": [
    "#-------------------------------------- Random Forest -------------------------------------\n",
    "probabilityValues = RFmodel.predict_proba(features)[:,1]\n",
    "#Calculate AUC\n",
    "auc = roc_auc_score(label,probabilityValues)\n",
    "print(auc)\n",
    "#Calculate roc_curve\n",
    "fpr,tpr, threshold =  roc_curve(label,probabilityValues)\n",
    "plt.plot([0,1],[0,1], linestyle = '--')\n",
    "plt.plot(fpr,tpr)"
   ]
  },
  {
   "cell_type": "markdown",
   "metadata": {},
   "source": [
    "## Conclusion\n",
    "I will choose a **naive bayes algorithm** for this dataset.\n",
    "\n",
    "**naive bayes score**\n",
    "\n",
    "1. **f1_score: 0.4182915181587346**\n",
    "2. **auc: 0.8214481948289034**"
   ]
  },
  {
   "cell_type": "code",
   "execution_count": null,
   "metadata": {
    "execution": {
     "iopub.execute_input": "2021-08-16T06:48:22.929673Z",
     "iopub.status.busy": "2021-08-16T06:48:22.929358Z",
     "iopub.status.idle": "2021-08-16T06:48:22.969262Z",
     "shell.execute_reply": "2021-08-16T06:48:22.968254Z",
     "shell.execute_reply.started": "2021-08-16T06:48:22.929641Z"
    }
   },
   "outputs": [],
   "source": []
  },
  {
   "cell_type": "code",
   "execution_count": null,
   "metadata": {
    "execution": {
     "iopub.execute_input": "2021-08-16T06:48:22.970948Z",
     "iopub.status.busy": "2021-08-16T06:48:22.970593Z",
     "iopub.status.idle": "2021-08-16T06:48:22.979099Z",
     "shell.execute_reply": "2021-08-16T06:48:22.97788Z",
     "shell.execute_reply.started": "2021-08-16T06:48:22.970915Z"
    }
   },
   "outputs": [],
   "source": []
  },
  {
   "cell_type": "code",
   "execution_count": null,
   "metadata": {
    "execution": {
     "iopub.execute_input": "2021-08-16T06:48:22.981158Z",
     "iopub.status.busy": "2021-08-16T06:48:22.980867Z",
     "iopub.status.idle": "2021-08-16T06:48:23.015502Z",
     "shell.execute_reply": "2021-08-16T06:48:23.014452Z",
     "shell.execute_reply.started": "2021-08-16T06:48:22.981101Z"
    }
   },
   "outputs": [],
   "source": []
  },
  {
   "cell_type": "code",
   "execution_count": null,
   "metadata": {
    "execution": {
     "iopub.execute_input": "2021-08-16T06:48:23.017103Z",
     "iopub.status.busy": "2021-08-16T06:48:23.016828Z",
     "iopub.status.idle": "2021-08-16T06:48:23.02421Z",
     "shell.execute_reply": "2021-08-16T06:48:23.022948Z",
     "shell.execute_reply.started": "2021-08-16T06:48:23.017074Z"
    }
   },
   "outputs": [],
   "source": []
  },
  {
   "cell_type": "code",
   "execution_count": null,
   "metadata": {
    "execution": {
     "iopub.execute_input": "2021-08-16T06:48:23.026526Z",
     "iopub.status.busy": "2021-08-16T06:48:23.026027Z",
     "iopub.status.idle": "2021-08-16T06:48:23.035027Z",
     "shell.execute_reply": "2021-08-16T06:48:23.03408Z",
     "shell.execute_reply.started": "2021-08-16T06:48:23.026481Z"
    }
   },
   "outputs": [],
   "source": []
  },
  {
   "cell_type": "code",
   "execution_count": null,
   "metadata": {
    "execution": {
     "iopub.execute_input": "2021-08-16T06:48:23.036887Z",
     "iopub.status.busy": "2021-08-16T06:48:23.036477Z",
     "iopub.status.idle": "2021-08-16T06:48:23.045393Z",
     "shell.execute_reply": "2021-08-16T06:48:23.044511Z",
     "shell.execute_reply.started": "2021-08-16T06:48:23.036813Z"
    },
    "scrolled": true
   },
   "outputs": [],
   "source": []
  },
  {
   "cell_type": "code",
   "execution_count": null,
   "metadata": {
    "execution": {
     "iopub.execute_input": "2021-08-16T06:48:23.047239Z",
     "iopub.status.busy": "2021-08-16T06:48:23.046839Z",
     "iopub.status.idle": "2021-08-16T06:48:23.059651Z",
     "shell.execute_reply": "2021-08-16T06:48:23.058505Z",
     "shell.execute_reply.started": "2021-08-16T06:48:23.047204Z"
    }
   },
   "outputs": [],
   "source": []
  },
  {
   "cell_type": "code",
   "execution_count": null,
   "metadata": {
    "execution": {
     "iopub.execute_input": "2021-08-16T06:48:23.063634Z",
     "iopub.status.busy": "2021-08-16T06:48:23.063364Z",
     "iopub.status.idle": "2021-08-16T06:48:23.074475Z",
     "shell.execute_reply": "2021-08-16T06:48:23.073464Z",
     "shell.execute_reply.started": "2021-08-16T06:48:23.063608Z"
    }
   },
   "outputs": [],
   "source": []
  }
 ],
 "metadata": {
  "kernelspec": {
   "display_name": "Python 3 (ipykernel)",
   "language": "python",
   "name": "python3"
  },
  "language_info": {
   "codemirror_mode": {
    "name": "ipython",
    "version": 3
   },
   "file_extension": ".py",
   "mimetype": "text/x-python",
   "name": "python",
   "nbconvert_exporter": "python",
   "pygments_lexer": "ipython3",
   "version": "3.9.7"
  }
 },
 "nbformat": 4,
 "nbformat_minor": 4
}
